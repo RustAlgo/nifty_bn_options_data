{
 "cells": [
  {
   "cell_type": "markdown",
   "metadata": {},
   "source": [
    "# check your data Here"
   ]
  },
  {
   "cell_type": "code",
   "execution_count": 1,
   "metadata": {},
   "outputs": [
    {
     "name": "stderr",
     "output_type": "stream",
     "text": [
      "C:\\Users\\gkm20\\AppData\\Local\\Temp\\ipykernel_9364\\2463385456.py:1: DeprecationWarning: \n",
      "Pyarrow will become a required dependency of pandas in the next major release of pandas (pandas 3.0),\n",
      "(to allow more performant data types, such as the Arrow string type, and better interoperability with other libraries)\n",
      "but was not found to be installed on your system.\n",
      "If this would cause problems for you,\n",
      "please provide us feedback at https://github.com/pandas-dev/pandas/issues/54466\n",
      "        \n",
      "  import pandas as pd\n"
     ]
    },
    {
     "data": {
      "text/html": [
       "<div>\n",
       "<style scoped>\n",
       "    .dataframe tbody tr th:only-of-type {\n",
       "        vertical-align: middle;\n",
       "    }\n",
       "\n",
       "    .dataframe tbody tr th {\n",
       "        vertical-align: top;\n",
       "    }\n",
       "\n",
       "    .dataframe thead th {\n",
       "        text-align: right;\n",
       "    }\n",
       "</style>\n",
       "<table border=\"1\" class=\"dataframe\">\n",
       "  <thead>\n",
       "    <tr style=\"text-align: right;\">\n",
       "      <th></th>\n",
       "      <th>close</th>\n",
       "      <th>date</th>\n",
       "      <th>high</th>\n",
       "      <th>low</th>\n",
       "      <th>oi</th>\n",
       "      <th>open</th>\n",
       "      <th>symbol</th>\n",
       "      <th>time</th>\n",
       "      <th>volume</th>\n",
       "    </tr>\n",
       "  </thead>\n",
       "  <tbody>\n",
       "    <tr>\n",
       "      <th>0</th>\n",
       "      <td>2.80</td>\n",
       "      <td>2023-01-02</td>\n",
       "      <td>3.00</td>\n",
       "      <td>2.80</td>\n",
       "      <td>477375.0</td>\n",
       "      <td>2.90</td>\n",
       "      <td>BANKNIFTY05JAN2336500PE</td>\n",
       "      <td>09:15:00</td>\n",
       "      <td>15127</td>\n",
       "    </tr>\n",
       "    <tr>\n",
       "      <th>1</th>\n",
       "      <td>2.80</td>\n",
       "      <td>2023-01-02</td>\n",
       "      <td>2.85</td>\n",
       "      <td>2.75</td>\n",
       "      <td>477375.0</td>\n",
       "      <td>2.75</td>\n",
       "      <td>BANKNIFTY05JAN2336500PE</td>\n",
       "      <td>09:16:00</td>\n",
       "      <td>7075</td>\n",
       "    </tr>\n",
       "    <tr>\n",
       "      <th>2</th>\n",
       "      <td>2.75</td>\n",
       "      <td>2023-01-02</td>\n",
       "      <td>2.85</td>\n",
       "      <td>2.75</td>\n",
       "      <td>494825.0</td>\n",
       "      <td>2.85</td>\n",
       "      <td>BANKNIFTY05JAN2336500PE</td>\n",
       "      <td>09:17:00</td>\n",
       "      <td>11075</td>\n",
       "    </tr>\n",
       "    <tr>\n",
       "      <th>3</th>\n",
       "      <td>2.80</td>\n",
       "      <td>2023-01-02</td>\n",
       "      <td>2.85</td>\n",
       "      <td>2.80</td>\n",
       "      <td>494825.0</td>\n",
       "      <td>2.80</td>\n",
       "      <td>BANKNIFTY05JAN2336500PE</td>\n",
       "      <td>09:18:00</td>\n",
       "      <td>7325</td>\n",
       "    </tr>\n",
       "    <tr>\n",
       "      <th>4</th>\n",
       "      <td>2.85</td>\n",
       "      <td>2023-01-02</td>\n",
       "      <td>2.90</td>\n",
       "      <td>2.85</td>\n",
       "      <td>494825.0</td>\n",
       "      <td>2.85</td>\n",
       "      <td>BANKNIFTY05JAN2336500PE</td>\n",
       "      <td>09:19:00</td>\n",
       "      <td>27850</td>\n",
       "    </tr>\n",
       "  </tbody>\n",
       "</table>\n",
       "</div>"
      ],
      "text/plain": [
       "   close        date  high   low        oi  open                   symbol  \\\n",
       "0   2.80  2023-01-02  3.00  2.80  477375.0  2.90  BANKNIFTY05JAN2336500PE   \n",
       "1   2.80  2023-01-02  2.85  2.75  477375.0  2.75  BANKNIFTY05JAN2336500PE   \n",
       "2   2.75  2023-01-02  2.85  2.75  494825.0  2.85  BANKNIFTY05JAN2336500PE   \n",
       "3   2.80  2023-01-02  2.85  2.80  494825.0  2.80  BANKNIFTY05JAN2336500PE   \n",
       "4   2.85  2023-01-02  2.90  2.85  494825.0  2.85  BANKNIFTY05JAN2336500PE   \n",
       "\n",
       "       time  volume  \n",
       "0  09:15:00   15127  \n",
       "1  09:16:00    7075  \n",
       "2  09:17:00   11075  \n",
       "3  09:18:00    7325  \n",
       "4  09:19:00   27850  "
      ]
     },
     "execution_count": 1,
     "metadata": {},
     "output_type": "execute_result"
    }
   ],
   "source": [
    "import pandas as pd\n",
    "\n",
    "df= pd.read_csv(\"2023-01-02_to_2023-01-05_banknifty_data.csv\") # Enter your file name in inverted commas example already given 2023-01-02_to_2023-01-05_banknifty_data.csv\n",
    "df.head()"
   ]
  },
  {
   "cell_type": "code",
   "execution_count": null,
   "metadata": {},
   "outputs": [],
   "source": [
    "df.describe()"
   ]
  }
 ],
 "metadata": {
  "kernelspec": {
   "display_name": ".venv",
   "language": "python",
   "name": "python3"
  },
  "language_info": {
   "codemirror_mode": {
    "name": "ipython",
    "version": 3
   },
   "file_extension": ".py",
   "mimetype": "text/x-python",
   "name": "python",
   "nbconvert_exporter": "python",
   "pygments_lexer": "ipython3",
   "version": "3.12.0"
  }
 },
 "nbformat": 4,
 "nbformat_minor": 2
}
